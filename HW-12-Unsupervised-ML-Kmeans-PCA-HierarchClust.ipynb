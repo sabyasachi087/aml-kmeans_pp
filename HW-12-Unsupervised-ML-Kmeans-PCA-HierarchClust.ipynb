{
 "cells": [
  {
   "cell_type": "markdown",
   "metadata": {},
   "source": [
    "# Task: Perform in code (check lab notebook) or by hand  "
   ]
  },
  {
   "cell_type": "markdown",
   "metadata": {},
   "source": [
    "<img src=\"attachment:image.png\" alt=\"Drawing\" style=\"width: =600px;\"/>"
   ]
  },
  {
   "cell_type": "markdown",
   "metadata": {},
   "source": [
    "# Hierarchical clustering via pipelines\n",
    "\n",
    "<img src=\"attachment:image.png\" alt=\"Drawing\" style=\"width: =600px;\"/>"
   ]
  },
  {
   "cell_type": "markdown",
   "metadata": {
    "collapsed": true
   },
   "source": [
    "# [Optional] Homegrown KMeans Extension\n",
    "This following code is a homegrown implementation of the KMeans algorithm."
   ]
  },
  {
   "cell_type": "code",
   "execution_count": 376,
   "metadata": {
    "collapsed": false
   },
   "outputs": [
    {
     "data": {
      "image/png": "[encoded data removed]",
      "text/plain": [
       "<matplotlib.figure.Figure at 0x7f28b522aba8>"
      ]
     },
     "metadata": {},
     "output_type": "display_data"
    }
   ],
   "source": [
    "from sklearn.datasets.samples_generator import make_blobs\n",
    "import numpy as np\n",
    "import matplotlib.pyplot as plt\n",
    "import matplotlib\n",
    "from matplotlib import animation\n",
    "import random\n",
    "from functools import reduce, partial\n",
    "from operator import add\n",
    "\n",
    "class KMeans:\n",
    "    \"\"\"good old class based solution\"\"\"\n",
    "    def __init__(self, k):\n",
    "        self.k = k\n",
    "        self.means = [None for _ in range(k)]\n",
    "\n",
    "    def fit(self, points, num_iters=10):\n",
    "        assignments = [None for _ in points]\n",
    "        self.means = random.sample(list(points), self.k)\n",
    "        for _ in range(num_iters):\n",
    "            for i, point in enumerate(points):\n",
    "                assignments[i] = self.predict(point)\n",
    "            for j in range(self.k):\n",
    "                cluster = [p for p, c in zip(points, assignments) if c == j]\n",
    "                self.means[j] = list(map(lambda x: x / len(cluster), reduce(partial(map, add), cluster)))\n",
    "\n",
    "    def predict(self, point):\n",
    "        d_min = float('inf')\n",
    "        for j, m in enumerate(self.means):\n",
    "            d = sum((m_i - p_i)**2 for m_i, p_i in zip(m, point))\n",
    "            if d < d_min:\n",
    "                prediction = j\n",
    "                d_min = d\n",
    "        return prediction\n",
    "\n",
    "def run_kmeans(points, k=3):\n",
    "    model = KMeans(k)\n",
    "    model.fit(points, num_iters=100)\n",
    "    assignments = [model.predict(point) for point in points]\n",
    "\n",
    "    for x, y in model.means:\n",
    "        plt.plot(x, y, marker='*', markersize=20, color='Black')\n",
    "\n",
    "    for j, color in zip(range(k),\n",
    "                      ['r', 'g', 'b', 'm', 'c']):\n",
    "        cluster = [p\n",
    "                   for p, c in zip(points, assignments)\n",
    "                   if j == c]\n",
    "        xs, ys = zip(*cluster)\n",
    "        plt.scatter(xs, ys, color=color)\n",
    "\n",
    "    plt.show()\n",
    "\n",
    "#Generate some data\n",
    "random.seed(42)\n",
    "points = np.random.random((100,2))\n",
    "\n",
    "run_kmeans(points, 5)"
   ]
  },
  {
   "cell_type": "markdown",
   "metadata": {},
   "source": [
    "#  extend the KMeans  implementation above with KMean++\n",
    "\n",
    "How does the execution of the original KMeans code change when using KMeans++? Discuss. HINT: number of iterations.\n"
   ]
  },
  {
   "cell_type": "markdown",
   "metadata": {},
   "source": [
    "# [Optional Task] Plot cluster boundaries for first 10 iterations\n",
    "\n",
    "Generate a plausible  artificial \"mouse\" dataset depicted below (with the ground truth). \n",
    "\n"
   ]
  },
  {
   "cell_type": "markdown",
   "metadata": {},
   "source": [
    "![image.png](attachment:image.png)"
   ]
  },
  {
   "cell_type": "markdown",
   "metadata": {},
   "source": [
    "Using the homegrown Kmeans (KMeans++) plot the decision boundaries iteration by iteration for the first 10 iterations using 3 clusters. A plot like the following be sufficient."
   ]
  },
  {
   "cell_type": "markdown",
   "metadata": {},
   "source": [
    "![image.png](attachment:image.png)"
   ]
  },
  {
   "cell_type": "code",
   "execution_count": null,
   "metadata": {
    "collapsed": true
   },
   "outputs": [],
   "source": []
  }
 ],
 "metadata": {
  "anaconda-cloud": {},
  "kernelspec": {
   "display_name": "Python 3",
   "language": "python",
   "name": "python3"
  },
  "language_info": {
   "codemirror_mode": {
    "name": "ipython",
    "version": 3
   },
   "file_extension": ".py",
   "mimetype": "text/x-python",
   "name": "python",
   "nbconvert_exporter": "python",
   "pygments_lexer": "ipython3",
   "version": "3.6.3"
  },
  "toc": {
   "nav_menu": {},
   "number_sections": true,
   "sideBar": true,
   "skip_h1_title": false,
   "toc_cell": false,
   "toc_position": {},
   "toc_section_display": "block",
   "toc_window_display": true
  }
 },
 "nbformat": 4,
 "nbformat_minor": 1
}
